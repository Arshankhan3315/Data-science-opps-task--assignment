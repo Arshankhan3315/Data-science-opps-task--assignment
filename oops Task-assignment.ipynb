{
 "cells": [
  {
   "cell_type": "raw",
   "id": "b3ff0d5e-df0b-4c39-b95c-697cc550063c",
   "metadata": {},
   "source": [
    "opps-Task = assignment"
   ]
  },
  {
   "cell_type": "markdown",
   "id": "7ad80e23-f31c-4698-ba56-180d168adace",
   "metadata": {},
   "source": [
    "Question-1- Create a vehicle class with an init method having instance variables as name_of_vehicle, max_speed\n",
    "and average_of_vehicle."
   ]
  },
  {
   "cell_type": "markdown",
   "id": "d083ba68-e8be-49d9-8caa-652ac3a0ff9c",
   "metadata": {},
   "source": [
    "Answer-1- this is the vehical class i made"
   ]
  },
  {
   "cell_type": "code",
   "execution_count": 1,
   "id": "437463a7-b30a-43f2-93df-e193702407a2",
   "metadata": {},
   "outputs": [],
   "source": [
    "class Vehicle:\n",
    "    def __init__(self, name_of_vehicle, max_speed, average_speed):\n",
    "        self.name_of_vehicle = name_of_vehicle\n",
    "        self.max_speed = max_speed\n",
    "        self.average_speed = average_speed"
   ]
  },
  {
   "cell_type": "code",
   "execution_count": 4,
   "id": "67950523-e3a4-4bd9-8937-d8df70d38c04",
   "metadata": {},
   "outputs": [],
   "source": [
    "car = Vehicle(\"Car\", 160, 80)\n",
    "bike = Vehicle(\"Bike\", 120, 40)"
   ]
  },
  {
   "cell_type": "code",
   "execution_count": 5,
   "id": "06d7b580-efe4-4d47-a42e-f8478e9d4f15",
   "metadata": {},
   "outputs": [
    {
     "name": "stdout",
     "output_type": "stream",
     "text": [
      "Car has a max speed of 160 km/h.\n",
      "Bike has an average speed of 40 km/h.\n"
     ]
    }
   ],
   "source": [
    "print(f\"{car.name_of_vehicle} has a max speed of {car.max_speed} km/h.\")\n",
    "print(f\"{bike.name_of_vehicle} has an average speed of {bike.average_speed} km/h.\")"
   ]
  },
  {
   "cell_type": "markdown",
   "id": "38045e06-f439-4ede-a4fb-916207e93b13",
   "metadata": {},
   "source": [
    "Question-2- Create a child class car from the vehicle class created in Que 1, which will inherit the vehicle class.\n",
    "Create a method named seating_capacity which takes capacity as an argument and returns the name of\n",
    "the vehicle and its seating capacity."
   ]
  },
  {
   "cell_type": "markdown",
   "id": "28371df3-0333-459b-bfb8-a630d4e00675",
   "metadata": {},
   "source": [
    "Answer-2- This question is link with first Question"
   ]
  },
  {
   "cell_type": "code",
   "execution_count": 6,
   "id": "708fb6ab-db3e-4dd4-bb7b-74e4a5fceb0d",
   "metadata": {},
   "outputs": [],
   "source": [
    "class Vehicle:\n",
    "    def __init__(self, name_of_vehicle, max_speed, average_speed):\n",
    "        self.name_of_vehicle = name_of_vehicle\n",
    "        self.max_speed = max_speed\n",
    "        self.average_speed = average_speed\n",
    "\n",
    "class Child_class(Vehicle):\n",
    "    def seating_capacity(self, capacity):\n",
    "        return f\"{self.name_of_vehicle} has a seating capacity of {capacity} people.\""
   ]
  },
  {
   "cell_type": "code",
   "execution_count": 9,
   "id": "fc56fb24-bbd5-47db-9688-8751e8d3cbd9",
   "metadata": {},
   "outputs": [],
   "source": [
    "child_class = Child_class(\"Sedan\", 180, 60)"
   ]
  },
  {
   "cell_type": "code",
   "execution_count": 11,
   "id": "ab7fc819-b2bd-47bb-8d7f-fa1f951a722b",
   "metadata": {},
   "outputs": [
    {
     "name": "stdout",
     "output_type": "stream",
     "text": [
      "Sedan has a max speed of 160 km/h.\n",
      "Sedan has a seating capacity of 5 people.\n"
     ]
    }
   ],
   "source": [
    "print(f\"{child_class.name_of_vehicle} has a max speed of {car.max_speed} km/h.\")\n",
    "\n",
    "capacity = 5\n",
    "print(child_class.seating_capacity(capacity))"
   ]
  },
  {
   "cell_type": "markdown",
   "id": "061d0209-66de-4a64-887a-37a42f525910",
   "metadata": {},
   "source": [
    "Question-3- What is multiple inheritance? Write a python code to demonstrate multiple inheritance."
   ]
  },
  {
   "cell_type": "markdown",
   "id": "7eb29e69-41dd-4aee-bc07-b42a08fca268",
   "metadata": {},
   "source": [
    "Answer-3-Multiple inheritance is a feature in object-oriented programming languages that allows a class to inherit attributes and methods from more than one parent class"
   ]
  },
  {
   "cell_type": "code",
   "execution_count": 12,
   "id": "4a8d5661-5c14-44cd-b61b-8f280587a94b",
   "metadata": {},
   "outputs": [],
   "source": [
    "class Vehicle:\n",
    "    def __init__(self, name, max_speed):\n",
    "        self.name = name\n",
    "        self.max_speed = max_speed\n",
    "\n",
    "    def display_info(self):\n",
    "        print(f\"This is a {self.name} with a max speed of {self.max_speed}.\")\n",
    "\n",
    "class Electric:\n",
    "    def __init__(self, battery_capacity):\n",
    "        self.battery_capacity = battery_capacity\n",
    "\n",
    "    def display_battery(self):\n",
    "        print(f\"This vehicle has a battery capacity of {self.battery_capacity} kWh.\")\n",
    "\n",
    "class HybridCar(Vehicle, Electric):\n",
    "    def __init__(self, name, max_speed, battery_capacity, fuel_type):\n",
    "        Vehicle.__init__(self, name, max_speed)\n",
    "        Electric.__init__(self, battery_capacity)\n",
    "        self.fuel_type = fuel_type\n",
    "\n",
    "    def display_info(self):\n",
    "        super().display_info()\n",
    "        print(f\"It is a hybrid car with {self.fuel_type} fuel.\")"
   ]
  },
  {
   "cell_type": "code",
   "execution_count": 13,
   "id": "56584674-b61c-4471-9913-32bf41e1ccaf",
   "metadata": {},
   "outputs": [],
   "source": [
    "hybrid_car = HybridCar(\"Hybrid Sedan\", 160, 30, \"Petrol/Electric\")"
   ]
  },
  {
   "cell_type": "code",
   "execution_count": 14,
   "id": "0ff46d1c-af6a-4884-a2bd-83995875ce94",
   "metadata": {},
   "outputs": [
    {
     "name": "stdout",
     "output_type": "stream",
     "text": [
      "This is a Hybrid Sedan with a max speed of 160.\n",
      "It is a hybrid car with Petrol/Electric fuel.\n"
     ]
    }
   ],
   "source": [
    "hybrid_car.display_info()"
   ]
  },
  {
   "cell_type": "code",
   "execution_count": 15,
   "id": "f34850be-5aa1-43b4-9fb3-06481e46653b",
   "metadata": {},
   "outputs": [
    {
     "name": "stdout",
     "output_type": "stream",
     "text": [
      "This vehicle has a battery capacity of 30 kWh.\n"
     ]
    }
   ],
   "source": [
    "hybrid_car.display_battery()"
   ]
  },
  {
   "cell_type": "markdown",
   "id": "deec07ba-c8e0-4185-b23d-d35129996401",
   "metadata": {},
   "source": [
    "Question-4- What are getter and setter in python? Create a class and create a getter and a setter method in this\n",
    "class."
   ]
  },
  {
   "cell_type": "markdown",
   "id": "d8b998ce-2cc6-4b6d-8d3d-571c2fbc06d4",
   "metadata": {},
   "source": [
    "Answer-4- In Python, getters and setters are methods that are used to access and modify the attributes (instance variables) of a class. They provide a controlled way to read and write the values of private attributes. Getters are used to retrieve the values of attributes, while setters are used to set or modify the values of attributes. This can be useful for encapsulation and maintaining data integrity within a class."
   ]
  },
  {
   "cell_type": "code",
   "execution_count": 17,
   "id": "21b995aa-f2ad-48be-bdf2-c5de888206c7",
   "metadata": {},
   "outputs": [],
   "source": [
    "class Student:\n",
    "    def __init__(self, name, age):\n",
    "        self._name = name  \n",
    "        self._age = age    \n",
    "\n",
    "    def get_name(self):\n",
    "        return self._name\n",
    "\n",
    "    def set_name(self, new_name):\n",
    "        self._name = new_name\n",
    "\n",
    "    def get_age(self):\n",
    "        return self._age\n",
    "\n",
    "    def set_age(self, new_age):\n",
    "        if new_age >= 0:\n",
    "            self._age = new_age\n",
    "        else:\n",
    "            print(\"Age cannot be negative.\")"
   ]
  },
  {
   "cell_type": "code",
   "execution_count": 19,
   "id": "46d13be5-1ccd-4fcf-aa20-181754208251",
   "metadata": {},
   "outputs": [],
   "source": [
    "student = Student(\"Arshan khan\", 20)"
   ]
  },
  {
   "cell_type": "code",
   "execution_count": 20,
   "id": "e9c2edaf-12a2-4a08-b2ee-20e7b28e0a21",
   "metadata": {},
   "outputs": [
    {
     "name": "stdout",
     "output_type": "stream",
     "text": [
      "Student name: Arshan khan\n",
      "Student age: 20\n"
     ]
    }
   ],
   "source": [
    "print(\"Student name:\", student.get_name())\n",
    "print(\"Student age:\", student.get_age())"
   ]
  },
  {
   "cell_type": "code",
   "execution_count": 22,
   "id": "9e2c5391-8738-457a-8a73-9b21f8247031",
   "metadata": {},
   "outputs": [],
   "source": [
    "student.set_name(\"Arshan\")\n",
    "student.set_age(22)"
   ]
  },
  {
   "cell_type": "code",
   "execution_count": 23,
   "id": "06b04021-3d6f-4221-86fb-373b6b706344",
   "metadata": {},
   "outputs": [
    {
     "name": "stdout",
     "output_type": "stream",
     "text": [
      "Modified student name: Arshan\n",
      "Modified student age: 22\n"
     ]
    }
   ],
   "source": [
    "print(\"Modified student name:\", student.get_name())\n",
    "print(\"Modified student age:\", student.get_age())"
   ]
  },
  {
   "cell_type": "markdown",
   "id": "ab438008-62ad-4907-a97e-b432930aa0f1",
   "metadata": {},
   "source": [
    "Question-5- What is method overriding in python? Write a python code to demonstrate method overriding."
   ]
  },
  {
   "cell_type": "markdown",
   "id": "f3fd0459-85ac-4e0f-91b6-594716cd6d5c",
   "metadata": {},
   "source": [
    "Answer-5-Method overriding in Python refers to the ability of a subclass to provide a specific implementation for a method that is already defined in its superclass. This allows the subclass to modify or extend the behavior of the inherited method while keeping the same method signature (name and parameters)"
   ]
  },
  {
   "cell_type": "code",
   "execution_count": 24,
   "id": "6b5afbb3-bb53-4c64-8382-2343f8bf1061",
   "metadata": {},
   "outputs": [],
   "source": [
    "class Animal:\n",
    "    def speak(self):\n",
    "        return \"Animal speaks something\"\n",
    "\n",
    "class Dog(Animal):\n",
    "    def speak(self):\n",
    "        return \"Woof woof!\"\n",
    "\n",
    "class Cat(Animal):\n",
    "    def speak(self):\n",
    "        return \"Meow meow!\""
   ]
  },
  {
   "cell_type": "code",
   "execution_count": 25,
   "id": "6957c915-ab8f-4778-b603-4b5f448cc2ee",
   "metadata": {},
   "outputs": [],
   "source": [
    "dog = Dog()\n",
    "cat = Cat()"
   ]
  },
  {
   "cell_type": "code",
   "execution_count": 26,
   "id": "870f5113-e155-4578-814d-9c50100365de",
   "metadata": {},
   "outputs": [
    {
     "name": "stdout",
     "output_type": "stream",
     "text": [
      "Woof woof!\n"
     ]
    }
   ],
   "source": [
    "print(dog.speak()) "
   ]
  },
  {
   "cell_type": "code",
   "execution_count": 27,
   "id": "ce0661d8-2a9f-4cb3-9f0b-eed3b2723a91",
   "metadata": {},
   "outputs": [
    {
     "name": "stdout",
     "output_type": "stream",
     "text": [
      "Meow meow!\n"
     ]
    }
   ],
   "source": [
    "print(cat.speak())"
   ]
  },
  {
   "cell_type": "raw",
   "id": "0cf94eef-2265-4eea-9db0-d55a0ebcdfa3",
   "metadata": {},
   "source": [
    "completed assignment"
   ]
  },
  {
   "cell_type": "code",
   "execution_count": null,
   "id": "4f99c1d0-2480-48f6-9118-03ddf1f207e6",
   "metadata": {},
   "outputs": [],
   "source": []
  }
 ],
 "metadata": {
  "kernelspec": {
   "display_name": "Python 3 (ipykernel)",
   "language": "python",
   "name": "python3"
  },
  "language_info": {
   "codemirror_mode": {
    "name": "ipython",
    "version": 3
   },
   "file_extension": ".py",
   "mimetype": "text/x-python",
   "name": "python",
   "nbconvert_exporter": "python",
   "pygments_lexer": "ipython3",
   "version": "3.10.8"
  }
 },
 "nbformat": 4,
 "nbformat_minor": 5
}
